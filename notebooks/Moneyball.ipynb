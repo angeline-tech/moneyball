{
 "cells": [
  {
   "cell_type": "markdown",
   "id": "5a56e162-f214-47f8-b312-c903dd4b5771",
   "metadata": {},
   "source": [
    "# Moneyballz"
   ]
  },
  {
   "cell_type": "code",
   "execution_count": 4,
   "id": "626c318f-561c-4219-b83c-d30fc5c6de1e",
   "metadata": {},
   "outputs": [
    {
     "name": "stdout",
     "output_type": "stream",
     "text": [
      "Hello World!\n"
     ]
    }
   ],
   "source": [
    "print(\"Hello World!\")"
   ]
  }
 ],
 "metadata": {
  "kernelspec": {
   "display_name": "Python 3 (ipykernel)",
   "language": "python",
   "name": "python3"
  },
  "language_info": {
   "codemirror_mode": {
    "name": "ipython",
    "version": 3
   },
   "file_extension": ".py",
   "mimetype": "text/x-python",
   "name": "python",
   "nbconvert_exporter": "python",
   "pygments_lexer": "ipython3",
   "version": "3.11.6"
  }
 },
 "nbformat": 4,
 "nbformat_minor": 5
}
